{
  "metadata": {
    "kernelspec": {
      "name": "python",
      "display_name": "Python (Pyodide)",
      "language": "python"
    },
    "language_info": {
      "codemirror_mode": {
        "name": "python",
        "version": 3
      },
      "file_extension": ".py",
      "mimetype": "text/x-python",
      "name": "python",
      "nbconvert_exporter": "python",
      "pygments_lexer": "ipython3",
      "version": "3.8"
    }
  },
  "nbformat_minor": 5,
  "nbformat": 4,
  "cells": [
    {
      "id": "8fd086c4-eefe-41a9-b21f-ca87fc9a3886",
      "cell_type": "markdown",
      "source": "# Data Science Tools and Ecosystem",
      "metadata": {}
    },
    {
      "id": "18593603-f793-4b67-9a2b-f43507805ccc",
      "cell_type": "markdown",
      "source": "## En este cuaderno, se resumen las herramientas y ecosistemas de ciencia de datos.",
      "metadata": {}
    },
    {
      "id": "dd328edd-8523-4e7d-bded-08c4d5e9f511",
      "cell_type": "markdown",
      "source": "**Objetivos:**\n+ Listar lenguajes populares para Ciencia de Datos.\n+ Mostrar algunas bibliotecas comúnmente utilizadas para Ciencia de Datos.\n+ Señalar Herramientas de Ciencia de Datos.\n+ Ofrecer ejemplos de expresiones aritméticas en Python\n\n\n",
      "metadata": {}
    },
    {
      "id": "3c8bced1-79cc-442d-8442-666aeb7f4f32",
      "cell_type": "markdown",
      "source": "Algunos de los lenguajes populares que utilizan los científicos de datos son:\n1. Python\n2. SQL\n3. R\n4. Julia\n5. Scala\n",
      "metadata": {}
    },
    {
      "id": "fdafbc95-8853-404e-b089-97fd67548819",
      "cell_type": "markdown",
      "source": "Algunas de las bibliotecas comúmmente utilizadas por los científicos de datos incluyen:\n1. Pandas\n2. Numpy\n3. Maplotlib\n4. Seaborn\n5. Scikit-learn    ",
      "metadata": {}
    },
    {
      "id": "6ebbec2c-5415-457c-b382-c9de3680ffc2",
      "cell_type": "markdown",
      "source": "|Herramientas de Ciencia de Datos|\n|:-------------------------------|\n|Jupyter Notebooks| \n|Rstudio| \n|Google Colaboratory|\n",
      "metadata": {}
    },
    {
      "id": "7b6dd236-ee48-46f0-9c33-e32a6d691fee",
      "cell_type": "markdown",
      "source": "### A continuación, se presentan algunos ejemplos de evaluación de expresiones aritméticas en  Python",
      "metadata": {}
    },
    {
      "id": "6babbd9b-7ab2-42d1-aa90-e9794f3ac904",
      "cell_type": "markdown",
      "source": "Ésta es una expresion aritmética simple para multiplicar y luego sumar enteros",
      "metadata": {}
    },
    {
      "id": "a7f42be9-bcac-42b2-8e3e-01292e504904",
      "cell_type": "code",
      "source": "(3*4)+5",
      "metadata": {
        "trusted": true
      },
      "outputs": [
        {
          "execution_count": 3,
          "output_type": "execute_result",
          "data": {
            "text/plain": "17"
          },
          "metadata": {}
        }
      ],
      "execution_count": 3
    },
    {
      "id": "d3e01c81-faab-44f3-a202-01c6a83412a7",
      "cell_type": "markdown",
      "source": "Esto convertirá 200 minutos a horas dividiendo por 60",
      "metadata": {}
    },
    {
      "id": "534b77ef-1963-460a-a59e-245430e422cd",
      "cell_type": "code",
      "source": "dato=200\nhoras=dato//60\nminutos=dato%60",
      "metadata": {
        "trusted": true
      },
      "outputs": [],
      "execution_count": 36
    },
    {
      "id": "67a1a9a8-1998-4ad6-bf58-3b276d078627",
      "cell_type": "code",
      "source": "print(horas, \"Horas\", minutos, \"minutos\")",
      "metadata": {
        "trusted": true
      },
      "outputs": [
        {
          "name": "stdout",
          "output_type": "stream",
          "text": "3 Horas 20 minutos\n"
        }
      ],
      "execution_count": 45
    },
    {
      "id": "8c693da9-c9d8-4a04-84ab-1c53e4223fc4",
      "cell_type": "markdown",
      "source": "## Autor\nJosé Moncayo R",
      "metadata": {}
    },
    {
      "id": "6312679c-f47b-4114-9877-53839b3bd2c0",
      "cell_type": "code",
      "source": "",
      "metadata": {
        "trusted": true
      },
      "outputs": [],
      "execution_count": null
    }
  ]
}