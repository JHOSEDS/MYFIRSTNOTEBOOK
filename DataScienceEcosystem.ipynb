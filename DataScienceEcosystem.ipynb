{
  "metadata": {
    "kernelspec": {
      "name": "python",
      "display_name": "Python (Pyodide)",
      "language": "python"
    },
    "language_info": {
      "codemirror_mode": {
        "name": "python",
        "version": 3
      },
      "file_extension": ".py",
      "mimetype": "text/x-python",
      "name": "python",
      "nbconvert_exporter": "python",
      "pygments_lexer": "ipython3",
      "version": "3.8"
    }
  },
  "nbformat_minor": 5,
  "nbformat": 4,
  "cells": [
    {
      "id": "8fd086c4-eefe-41a9-b21f-ca87fc9a3886",
      "cell_type": "markdown",
      "source": "# Data Science Tools and Ecosystem",
      "metadata": {}
    },
    {
      "id": "18593603-f793-4b67-9a2b-f43507805ccc",
      "cell_type": "markdown",
      "source": "## In this notebook, Data Science Tools and Ecosystem are summarized.",
      "metadata": {}
    },
    {
      "id": "dd328edd-8523-4e7d-bded-08c4d5e9f511",
      "cell_type": "markdown",
      "source": "**Objectives**\n+ LIst popular languages for Data Science\n+ Show some commonly used libraries for Data Science\n+ Point out Data Science Tools.\n+ Offer examples of arithmetic expressions in Python\n\n\n",
      "metadata": {}
    },
    {
      "id": "3c8bced1-79cc-442d-8442-666aeb7f4f32",
      "cell_type": "markdown",
      "source": "Some of the popular languages that Data Scientists use are:\n1. Python\n2. R\n3. SQL\n4. Scala\n5. Java\n",
      "metadata": {}
    },
    {
      "id": "fdafbc95-8853-404e-b089-97fd67548819",
      "cell_type": "markdown",
      "source": "Some of the commonly used libraries used by Data Scientists include:\n1. Pandas\n2. Numpy\n3. Maplotlib\n4. Seaborn\n5. Scikit-learn    ",
      "metadata": {}
    },
    {
      "id": "6ebbec2c-5415-457c-b382-c9de3680ffc2",
      "cell_type": "markdown",
      "source": "|Data Science Tools|\n|:-------------------------------|\n|Jupyter Notebooks| \n|Rstudio| \n|Google Colaboratory|\n",
      "metadata": {}
    },
    {
      "id": "7b6dd236-ee48-46f0-9c33-e32a6d691fee",
      "cell_type": "markdown",
      "source": "### Below are a few examples of evaluating arithmetic expressions in Python",
      "metadata": {}
    },
    {
      "id": "a7f42be9-bcac-42b2-8e3e-01292e504904",
      "cell_type": "code",
      "source": "\"This a simple arithmetic expression to mutiply then add integers\"\n(3*4)+5",
      "metadata": {
        "trusted": true
      },
      "outputs": [
        {
          "execution_count": 7,
          "output_type": "execute_result",
          "data": {
            "text/plain": "17"
          },
          "metadata": {}
        }
      ],
      "execution_count": 7
    },
    {
      "id": "534b77ef-1963-460a-a59e-245430e422cd",
      "cell_type": "code",
      "source": "\"This will convert 200 minutes to hours by diving by 60\"\n200/60",
      "metadata": {
        "trusted": true
      },
      "outputs": [
        {
          "execution_count": 8,
          "output_type": "execute_result",
          "data": {
            "text/plain": "3.3333333333333335"
          },
          "metadata": {}
        }
      ],
      "execution_count": 8
    },
    {
      "id": "8c693da9-c9d8-4a04-84ab-1c53e4223fc4",
      "cell_type": "markdown",
      "source": "## Autor\nJosé Moncayo R",
      "metadata": {}
    },
    {
      "id": "6312679c-f47b-4114-9877-53839b3bd2c0",
      "cell_type": "code",
      "source": "",
      "metadata": {
        "trusted": true
      },
      "outputs": [],
      "execution_count": null
    },
    {
      "id": "fb09f3b6-11c0-4be7-a8d3-18aae2d0996b",
      "cell_type": "code",
      "source": "",
      "metadata": {
        "trusted": true
      },
      "outputs": [],
      "execution_count": null
    }
  ]
}